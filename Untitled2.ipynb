{
 "cells": [
  {
   "cell_type": "code",
   "execution_count": 1,
   "id": "b1e02017",
   "metadata": {},
   "outputs": [],
   "source": [
    "import json"
   ]
  },
  {
   "cell_type": "code",
   "execution_count": 2,
   "id": "8645bf32",
   "metadata": {},
   "outputs": [
    {
     "name": "stdout",
     "output_type": "stream",
     "text": [
      "f80095fd-15d6-4d1d-a668-da73c2f07fc8\n",
      "9e43aaa2-e271-4e08-94dd-edac72d70da9\n",
      "3c74c570-42c0-4639-9bf3-a33f9389d07e\n",
      "2be3443c-b3a3-4ae2-9c0e-25b9661bc3ef\n",
      "b6bf7284-8bf8-498d-922a-b55b3a9efa56\n",
      "4ef57ec2-99ac-4055-ba6f-03c70e286417\n",
      "68984d09-91f4-4f89-a5a6-ce6e49256310\n",
      "4279d487-c0e7-4830-9a5a-2785fe788ca6\n",
      "0537815e-53eb-42b3-a807-6001115fb08e\n",
      "cf07786c-c8f7-482c-b2c2-db4405061248\n",
      "92e84825-3c3e-42d3-8193-28535193f14c\n",
      "4087b8c5-3291-4246-9aeb-9cb43bd34540\n",
      "20da1eee-e40d-45c7-b6e5-a5b26f9a1b9e\n",
      "f3376508-991e-42d4-892e-bae9bccc420a\n",
      "a35787b0-ec88-4f5f-a566-db3020a79189\n",
      "f42ac3cc-9c7e-4b59-9455-debbb6684e20\n",
      "bbdcbf69-02f9-485c-9e5f-e789357987de\n",
      "f91cf086-a664-4f0e-85ac-eedc72d05a3f\n",
      "ab9cdc48-6d50-4eea-9c73-ab0454f8c961\n",
      "65d1ba5a-0589-4eaf-87b8-4b26bc0fd13f\n",
      "43969df0-604e-4b10-9b11-e46f55b7f6aa\n",
      "83cf5e1d-6d7f-453f-a924-4288533330b8\n",
      "6cc883fd-ff77-4b2e-976b-b61667033c80\n",
      "d08955c8-086a-44e8-a8cd-7916654ce7cc\n",
      "e053df52-d8e2-4804-b40c-d5745a3e4c47\n",
      "acddc59c-cbb5-42d8-afc4-2afa4ae85d8e\n",
      "c1e7a452-3510-4e8f-bdda-b83f33fde44a\n",
      "9e2abe9a-8e8a-48b1-8344-abbe0876a2c7\n",
      "a347f35f-9f30-4120-ad0a-5e0463f87374\n",
      "918b5c1c-b4e7-4c1e-b03a-de646c9fd809\n",
      "c881dcc0-f1dd-46dd-a0e0-ff1d8828cc60\n",
      "c881dcc0-f1dd-46dd-a0e0-ff1d8828cc60\n",
      "9d10560f-7671-40da-a09a-50bfd66c98de\n",
      "ad81137a-d345-48bc-8540-dd980bd41dae\n",
      "4f80a383-925d-425c-a43a-c004b49e3e2e\n",
      "47febf0e-21b6-4bf9-bdb1-ed44d5d5fa34\n",
      "ad7a0430-44b1-43ef-afba-de873e9308ba\n",
      "3aaa9a88-b085-41e9-a251-8990b37cdaef\n",
      "17872a95-0333-4d4a-86fc-894aac8d5ca0\n",
      "49edc87e-5906-4f45-b962-a112ba0a696a\n",
      "cb73472f-efc6-4183-afeb-79ba7ace97ff\n",
      "96f15faf-7a9a-407e-8223-5df3a8a212ae\n",
      "f3bab3c8-93e4-4fba-a636-ef34e07f4582\n",
      "cd45765a-98f0-48be-9a9b-9de89071e64f\n",
      "86733269-f387-4148-9adc-55a1f8d69b7e\n",
      "b51b2742-0b71-4e0c-a4ff-c01a422a9071\n",
      "487c5d23-13cc-42ce-8efd-24832f15d1d2\n",
      "b0ada6ed-80b8-4b1c-ba4b-de5e2a43109e\n",
      "7e97481f-af9b-4cc8-a17d-c63f95dce873\n",
      "70f8c82e-6701-4b1a-955f-996048bb1e41\n",
      "12aaf433-9a09-41e2-b96d-2c7137a533e9\n",
      "5039efbc-335c-4525-b39e-bf4a308e274a\n",
      "aba79362-2bb4-42bc-abce-561cab5c26a5\n",
      "41286d20-08ae-4b6c-ad8a-5902aacc2850\n",
      "396c06b2-81ea-4512-9628-8e79fbaf15d9\n",
      "dacf5283-70a0-452f-b3d7-e77cc2d40184\n",
      "6e758fe9-7f97-456d-875a-7f839937cb39\n",
      "bf0a214f-1b3d-425a-8a7d-e0cec24737b8\n",
      "86bef36c-c936-400a-8fb6-e424fc3a51f8\n",
      "0460e88a-f391-424a-913e-bf87cde5cc26\n",
      "150f011c-9971-4d67-9030-daed6a29017f\n",
      "91dcb629-f95b-4a8d-b2be-bd8087df7527\n"
     ]
    }
   ],
   "source": [
    "trip_id_dict = {}\n",
    "with open('data/msg.txt','r') as reader:\n",
    "    for line in reader:\n",
    "        line = line.strip()\n",
    "        d = json.loads(line)\n",
    "        tripId = d['Document']['TripID']\n",
    "        print(tripId)\n",
    "        trip_id_dict."
   ]
  },
  {
   "cell_type": "code",
   "execution_count": null,
   "id": "74e437a0",
   "metadata": {},
   "outputs": [],
   "source": []
  }
 ],
 "metadata": {
  "kernelspec": {
   "display_name": "Python 3 (ipykernel)",
   "language": "python",
   "name": "python3"
  },
  "language_info": {
   "codemirror_mode": {
    "name": "ipython",
    "version": 3
   },
   "file_extension": ".py",
   "mimetype": "text/x-python",
   "name": "python",
   "nbconvert_exporter": "python",
   "pygments_lexer": "ipython3",
   "version": "3.11.2"
  }
 },
 "nbformat": 4,
 "nbformat_minor": 5
}
