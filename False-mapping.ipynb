{
 "cells": [
  {
   "cell_type": "code",
   "execution_count": 1,
   "id": "97549768",
   "metadata": {},
   "outputs": [],
   "source": [
    "import os"
   ]
  },
  {
   "cell_type": "code",
   "execution_count": 2,
   "id": "9b60984b",
   "metadata": {},
   "outputs": [],
   "source": [
    "BASE_DIR=\"C:/Users/a818517/Desktop/missing-trip-analysis/15-SEPT\""
   ]
  },
  {
   "cell_type": "code",
   "execution_count": 5,
   "id": "87ffdfcd",
   "metadata": {},
   "outputs": [
    {
     "name": "stdout",
     "output_type": "stream",
     "text": [
      "blank vin>>  867\n"
     ]
    }
   ],
   "source": [
    "blank_vin=BASE_DIR+\"/BLANK-VIN.csv\"\n",
    "blank_vin_list=[]\n",
    "with open(blank_vin,'r',encoding='UTF-8') as reader:\n",
    "    for line in reader:\n",
    "        blank_vin_list.append(line.strip())\n",
    "        \n",
    "print(\"blank vin>> \",len(blank_vin_list))"
   ]
  },
  {
   "cell_type": "code",
   "execution_count": 8,
   "id": "2ee6f39a",
   "metadata": {},
   "outputs": [],
   "source": [
    "datamart_csv=BASE_DIR+\"/datamart-trip.csv\"\n",
    "false_mapping=BASE_DIR+\"/false_mapping.csv\"\n",
    "with open(datamart_csv,'r',encoding='UTF-8') as reader:\n",
    "    for line in reader:\n",
    "        vin=line.split(\",\")[1].strip()\n",
    "        if line.split(\",\")[1].strip() in blank_vin_list[1:]:\n",
    "            with open(false_mapping,'a', encoding='UTF-8') as writer:\n",
    "                    writer.write(line)"
   ]
  },
  {
   "cell_type": "code",
   "execution_count": null,
   "id": "c536f583",
   "metadata": {},
   "outputs": [],
   "source": []
  }
 ],
 "metadata": {
  "kernelspec": {
   "display_name": "Python 3 (ipykernel)",
   "language": "python",
   "name": "python3"
  },
  "language_info": {
   "codemirror_mode": {
    "name": "ipython",
    "version": 3
   },
   "file_extension": ".py",
   "mimetype": "text/x-python",
   "name": "python",
   "nbconvert_exporter": "python",
   "pygments_lexer": "ipython3",
   "version": "3.11.2"
  }
 },
 "nbformat": 4,
 "nbformat_minor": 5
}
