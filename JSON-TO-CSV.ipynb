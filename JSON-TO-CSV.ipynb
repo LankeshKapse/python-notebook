{
 "cells": [
  {
   "cell_type": "code",
   "execution_count": 1,
   "id": "c07c2c70",
   "metadata": {},
   "outputs": [],
   "source": [
    "import json\n",
    "import csv\n",
    "from datetime import datetime"
   ]
  },
  {
   "cell_type": "code",
   "execution_count": 2,
   "id": "50b9f36f",
   "metadata": {},
   "outputs": [],
   "source": [
    "json_log_file=\"C:/Users/a818517/Desktop/project-docs/hackthon-drive-time-alert/data/logger-log4j2-NL-B0002991860000.log\"\n",
    "json_log_compact=\"C:/Users/a818517/Desktop/project-docs/hackthon-drive-time-alert/data/NL-B0002991860000.json\"\n",
    "json_log_csv=\"C:/Users/a818517/Desktop/project-docs/hackthon-drive-time-alert/data/NL-B0002991860000.csv\"\n",
    "unique_csv=\"C:/Users/a818517/Desktop/project-docs/hackthon-drive-time-alert/data/unique-NL-B0002991860000.csv\""
   ]
  },
  {
   "cell_type": "code",
   "execution_count": 3,
   "id": "094aa3ce",
   "metadata": {},
   "outputs": [],
   "source": [
    "headers=['VIN', 'EvtDateTime', 'Driver1CardInserted', 'Driver1WorkingState', 'Driver2CardInserted', 'Driver2WorkingState', 'DriverID', 'Driver2ID', 'TripID','Time_In_Millies']\n",
    "with open(json_log_csv,'w',encoding='UTF-8') as writer:\n",
    "    writer.write(\",\".join(headers))\n",
    "    writer.write(\"\\n\")"
   ]
  },
  {
   "cell_type": "code",
   "execution_count": 4,
   "id": "df374855",
   "metadata": {},
   "outputs": [],
   "source": [
    "headers=['VIN', 'EvtDateTime', 'Driver1CardInserted', 'Driver1WorkingState', 'Driver2CardInserted', 'Driver2WorkingState', 'DriverID', 'Driver2ID', 'TripID','Time_In_Millies']\n",
    "format_1 = \"%Y-%m-%dT%H:%M:%S.%fZ\"\n",
    "with open(json_log_csv,'w',encoding='UTF-8') as writer:\n",
    "    writer.write(\",\".join(headers))\n",
    "    writer.write(\"\\n\")\n",
    "with open(json_log_file,'r',encoding='UTF-8') as reader:\n",
    "    with open(json_log_compact,'a',encoding='UTF-8') as writer:\n",
    "        for line in reader:\n",
    "            json_dict = json.loads(line)\n",
    "            vin = json_dict['VIN']\n",
    "            evt_date = json_dict['EvtDateTime']\n",
    "            documnet = json_dict['Document']\n",
    "            driver1_card_inserted = documnet['Driver1CardInserted']\n",
    "            driver1_working_state = documnet['Driver1WorkingState']\n",
    "            driver2_card_inserted = documnet['Driver2CardInserted']\n",
    "            driver2_working_state = documnet['Driver2WorkingState']\n",
    "            driver1_id = documnet['DriverID']\n",
    "            driver2_id = documnet['Driver2ID']\n",
    "            trip_id = documnet.get('TripID','')\n",
    "            compcat_dict = {'VIN':vin,'EvtDateTime':evt_date,'Driver1CardInserted':driver1_card_inserted,'Driver1WorkingState':driver1_working_state,\n",
    "                           'Driver2CardInserted':driver2_card_inserted,'Driver2WorkingState':driver2_working_state,\n",
    "                            'DriverID':driver1_id,'Driver2ID':driver2_id,'TripID':trip_id}\n",
    "            writer.write(json.dumps(compcat_dict)+\"\\n\")\n",
    "            \n",
    "            ## CSV LINE\n",
    "            date_object = datetime.strptime(evt_date, format_1)\n",
    "            date_time_long = str(date_object.timestamp())\n",
    "            csv_line=vin+\",\"+evt_date+\",\"+str(driver1_card_inserted)+\",\"+str(driver1_working_state)+\",\"+str(driver2_card_inserted)+\",\"+str(driver2_working_state)+\",\"+str(driver1_id)+\",\"+str(driver2_id)+\",\"+str(trip_id)+\",\"+date_time_long+\"\\n\"\n",
    "            with open(json_log_csv,'a',encoding='UTF-8') as csv_writer:\n",
    "                csv_writer.write(csv_line)\n",
    "            "
   ]
  },
  {
   "cell_type": "code",
   "execution_count": 5,
   "id": "f75be89d",
   "metadata": {},
   "outputs": [],
   "source": [
    "#### Remove duplicate from CSV"
   ]
  },
  {
   "cell_type": "code",
   "execution_count": 7,
   "id": "5e27b3fb",
   "metadata": {},
   "outputs": [],
   "source": [
    "set_unique=[]\n",
    "headers=['VIN', 'EvtDateTime', 'Driver1CardInserted', 'Driver1WorkingState', 'Driver2CardInserted', 'Driver2WorkingState', 'DriverID', 'Driver2ID', 'TripID','Time_In_Millies']\n",
    "with open(json_log_csv,'r',encoding='UTF-8') as reader:\n",
    "    for line in reader:\n",
    "        line=line.strip()\n",
    "        hash_line = hash(line)\n",
    "        if hash_line not in set_unique:\n",
    "            set_unique.append(hash_line)\n",
    "            with open(unique_csv,'a',encoding='UTF-8') as writer:\n",
    "                writer.write(line)\n",
    "                writer.write(\"\\n\")\n",
    "            "
   ]
  },
  {
   "cell_type": "code",
   "execution_count": 56,
   "id": "b3085fec",
   "metadata": {},
   "outputs": [],
   "source": []
  }
 ],
 "metadata": {
  "kernelspec": {
   "display_name": "Python 3 (ipykernel)",
   "language": "python",
   "name": "python3"
  },
  "language_info": {
   "codemirror_mode": {
    "name": "ipython",
    "version": 3
   },
   "file_extension": ".py",
   "mimetype": "text/x-python",
   "name": "python",
   "nbconvert_exporter": "python",
   "pygments_lexer": "ipython3",
   "version": "3.11.2"
  }
 },
 "nbformat": 4,
 "nbformat_minor": 5
}
