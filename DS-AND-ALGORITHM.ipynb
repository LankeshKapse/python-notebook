{
 "cells": [
  {
   "cell_type": "markdown",
   "id": "0c0cca5b",
   "metadata": {},
   "source": [
    "### INSERTION SORT"
   ]
  },
  {
   "cell_type": "code",
   "execution_count": 1,
   "id": "1f461101",
   "metadata": {},
   "outputs": [],
   "source": [
    "insertion_data_array = [12, 11, 13, 5, 6]"
   ]
  },
  {
   "cell_type": "code",
   "execution_count": 2,
   "id": "d5584d82",
   "metadata": {},
   "outputs": [
    {
     "name": "stdout",
     "output_type": "stream",
     "text": [
      "[12, 11, 13, 5, 6]\n"
     ]
    }
   ],
   "source": [
    "print(insertion_data_array)"
   ]
  },
  {
   "cell_type": "markdown",
   "id": "e0696cc7",
   "metadata": {},
   "source": []
  },
  {
   "cell_type": "code",
   "execution_count": 3,
   "id": "376e7960",
   "metadata": {},
   "outputs": [
    {
     "name": "stdout",
     "output_type": "stream",
     "text": [
      "[5, 6, 11, 12, 13]\n"
     ]
    }
   ],
   "source": [
    "# Loop through 1 to n-1 non pythonic\n",
    "lenght = len(insertion_data_array)\n",
    "for idx in range(1,lenght):\n",
    "    data = insertion_data_array[idx]\n",
    "    j = idx - 1\n",
    "    while j >=0 and insertion_data_array[j] > data:\n",
    "        # Swap data\n",
    "        insertion_data_array[j] , insertion_data_array[j+1] = insertion_data_array[j+1], insertion_data_array[j]\n",
    "        j =j-1\n",
    "print(insertion_data_array)"
   ]
  },
  {
   "cell_type": "code",
   "execution_count": 4,
   "id": "1b5aadf9",
   "metadata": {},
   "outputs": [
    {
     "name": "stdout",
     "output_type": "stream",
     "text": [
      "[5, 6, 11, 12, 13]\n"
     ]
    }
   ],
   "source": [
    "insertion_data_array = [12, 11, 13, 5, 6]\n",
    "for idx,data in enumerate(insertion_data_array, start=1):\n",
    "    try:\n",
    "        data = insertion_data_array[idx]\n",
    "        inner_index  = idx - 1\n",
    "        while inner_index >=0 and insertion_data_array[inner_index] > data:\n",
    "            insertion_data_array[inner_index] , insertion_data_array[inner_index+1] = insertion_data_array[inner_index+1], insertion_data_array[inner_index]\n",
    "            inner_index =inner_index-1\n",
    "    except:\n",
    "        pass\n",
    "\n",
    "#print insertion aaray\n",
    "print(insertion_data_array)"
   ]
  },
  {
   "cell_type": "code",
   "execution_count": null,
   "id": "3b474fd7",
   "metadata": {},
   "outputs": [],
   "source": []
  },
  {
   "cell_type": "code",
   "execution_count": null,
   "id": "4972c191",
   "metadata": {},
   "outputs": [],
   "source": []
  },
  {
   "cell_type": "code",
   "execution_count": null,
   "id": "326b719a",
   "metadata": {},
   "outputs": [],
   "source": []
  }
 ],
 "metadata": {
  "kernelspec": {
   "display_name": "Python 3 (ipykernel)",
   "language": "python",
   "name": "python3"
  },
  "language_info": {
   "codemirror_mode": {
    "name": "ipython",
    "version": 3
   },
   "file_extension": ".py",
   "mimetype": "text/x-python",
   "name": "python",
   "nbconvert_exporter": "python",
   "pygments_lexer": "ipython3",
   "version": "3.11.2"
  }
 },
 "nbformat": 4,
 "nbformat_minor": 5
}
