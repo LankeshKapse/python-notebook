{
 "cells": [
  {
   "cell_type": "code",
   "execution_count": 1,
   "id": "9edf0975",
   "metadata": {},
   "outputs": [],
   "source": [
    "import os"
   ]
  },
  {
   "cell_type": "code",
   "execution_count": 38,
   "id": "265c1148",
   "metadata": {},
   "outputs": [],
   "source": [
    "dir_1=\"C:/Users/a818517/Documents/ATOS/mileage-data/FINAL_DATA\""
   ]
  },
  {
   "cell_type": "code",
   "execution_count": 39,
   "id": "b234139c",
   "metadata": {},
   "outputs": [],
   "source": [
    "data_file=dir_1+\"/mileage_30_sept.csv\"\n",
    "data_file_2=dir_1+\"/Mileage_10012023074813.csv\""
   ]
  },
  {
   "cell_type": "code",
   "execution_count": 40,
   "id": "90b18b8a",
   "metadata": {},
   "outputs": [],
   "source": [
    "count=1\n",
    "with open(data_file,'r', encoding='UTF-8') as reader:\n",
    "     for line in reader:\n",
    "        data = line.replace(\",\",\";\").rstrip().replace('\"','')\n",
    "        with open(data_file_2,'a+',encoding='UTF-8') as w:\n",
    "            w.writelines(data+\"\\n\")\n",
    "        "
   ]
  },
  {
   "cell_type": "code",
   "execution_count": null,
   "id": "3233c5e6",
   "metadata": {},
   "outputs": [],
   "source": []
  }
 ],
 "metadata": {
  "kernelspec": {
   "display_name": "Python 3 (ipykernel)",
   "language": "python",
   "name": "python3"
  },
  "language_info": {
   "codemirror_mode": {
    "name": "ipython",
    "version": 3
   },
   "file_extension": ".py",
   "mimetype": "text/x-python",
   "name": "python",
   "nbconvert_exporter": "python",
   "pygments_lexer": "ipython3",
   "version": "3.11.2"
  }
 },
 "nbformat": 4,
 "nbformat_minor": 5
}
