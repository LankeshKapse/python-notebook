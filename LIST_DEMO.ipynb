{
 "cells": [
  {
   "cell_type": "markdown",
   "id": "85c37e63",
   "metadata": {},
   "source": [
    "#### CREATE LIST"
   ]
  },
  {
   "cell_type": "code",
   "execution_count": 1,
   "id": "f3ed96f7",
   "metadata": {},
   "outputs": [
    {
     "name": "stdout",
     "output_type": "stream",
     "text": [
      "[]\n"
     ]
    }
   ],
   "source": [
    "empty_list = []\n",
    "print(empty_list)"
   ]
  },
  {
   "cell_type": "code",
   "execution_count": 1,
   "id": "809a8339",
   "metadata": {},
   "outputs": [],
   "source": [
    "finite_list = [1,2,3,4,5,6,7,8,9]"
   ]
  },
  {
   "cell_type": "code",
   "execution_count": 2,
   "id": "f2faa7ea",
   "metadata": {},
   "outputs": [],
   "source": [
    "#LIST using loops"
   ]
  },
  {
   "cell_type": "code",
   "execution_count": 3,
   "id": "e242e910",
   "metadata": {},
   "outputs": [
    {
     "name": "stdout",
     "output_type": "stream",
     "text": [
      "[0, 1, 2, 3, 4, 5, 6, 7, 8, 9]\n"
     ]
    }
   ],
   "source": [
    "list_1 = [i for i in range(10)]\n",
    "print(list_1)"
   ]
  },
  {
   "cell_type": "code",
   "execution_count": 4,
   "id": "5cd99a64",
   "metadata": {},
   "outputs": [],
   "source": [
    "#check type of list"
   ]
  },
  {
   "cell_type": "code",
   "execution_count": 8,
   "id": "09176995",
   "metadata": {},
   "outputs": [
    {
     "name": "stdout",
     "output_type": "stream",
     "text": [
      "<class 'list'>\n"
     ]
    }
   ],
   "source": [
    "print(type(list_1))"
   ]
  },
  {
   "cell_type": "code",
   "execution_count": 6,
   "id": "da4cc726",
   "metadata": {},
   "outputs": [],
   "source": [
    "#Create list from collections"
   ]
  },
  {
   "cell_type": "code",
   "execution_count": 7,
   "id": "31e5795e",
   "metadata": {},
   "outputs": [
    {
     "name": "stdout",
     "output_type": "stream",
     "text": [
      "<class 'set'> <class 'list'>\n"
     ]
    }
   ],
   "source": [
    "set_1 = {1,2,3,4,5,6,7,8,9}\n",
    "set_list = list(set_1)\n",
    "print(type(set_1), type(set_list))"
   ]
  },
  {
   "cell_type": "markdown",
   "id": "2a5db24e",
   "metadata": {},
   "source": [
    "#### Create list of custome object"
   ]
  },
  {
   "cell_type": "code",
   "execution_count": 25,
   "id": "bc2b2c89",
   "metadata": {},
   "outputs": [],
   "source": [
    "class Person:\n",
    "    def __init__(self,name,age):\n",
    "        self.name=name\n",
    "        self.age=age\n",
    "    \n",
    "    def __str__(self):\n",
    "        return f'my name is {self.name} and iam {self.age} year old'\n",
    "    \n",
    "    def __repr__(self):\n",
    "        return f'my name is {self.name} and iam {self.age} year old'"
   ]
  },
  {
   "cell_type": "code",
   "execution_count": 26,
   "id": "d56286ca",
   "metadata": {},
   "outputs": [],
   "source": [
    "p1= Person('lokesh',32)"
   ]
  },
  {
   "cell_type": "code",
   "execution_count": 28,
   "id": "9703181a",
   "metadata": {},
   "outputs": [],
   "source": [
    "person_list = [Person('lokesh',32),Person('prajakta',30),Person('Nimbu',1)]\n"
   ]
  },
  {
   "cell_type": "code",
   "execution_count": 29,
   "id": "e5c08417",
   "metadata": {},
   "outputs": [
    {
     "name": "stdout",
     "output_type": "stream",
     "text": [
      "[my name is lokesh and iam 32 year old, my name is prajakta and iam 30 year old, my name is Nimbu and iam 1 year old]\n"
     ]
    }
   ],
   "source": [
    "print(person_list)"
   ]
  },
  {
   "cell_type": "markdown",
   "id": "0f1fefd1",
   "metadata": {},
   "source": [
    "#### Sort a list return new list"
   ]
  },
  {
   "cell_type": "code",
   "execution_count": 36,
   "id": "e06a0e7a",
   "metadata": {},
   "outputs": [
    {
     "name": "stdout",
     "output_type": "stream",
     "text": [
      "[my name is Nimbu and iam 1 year old, my name is prajakta and iam 30 year old, my name is lokesh and iam 32 year old]\n"
     ]
    }
   ],
   "source": [
    "sorted_list_asc = sorted(person_list, key = lambda x : x.age)\n",
    "print(sorted_list_asc)"
   ]
  },
  {
   "cell_type": "code",
   "execution_count": 37,
   "id": "610ccff6",
   "metadata": {},
   "outputs": [
    {
     "name": "stdout",
     "output_type": "stream",
     "text": [
      "[my name is lokesh and iam 32 year old, my name is prajakta and iam 30 year old, my name is Nimbu and iam 1 year old]\n"
     ]
    }
   ],
   "source": [
    "sorted_list_desc = sorted(person_list, key = lambda x : x.age, reverse=True)\n",
    "print(sorted_list_desc)"
   ]
  },
  {
   "cell_type": "markdown",
   "id": "cdd87ea1",
   "metadata": {},
   "source": [
    "#### list operation"
   ]
  },
  {
   "cell_type": "code",
   "execution_count": 38,
   "id": "38cade70",
   "metadata": {},
   "outputs": [],
   "source": [
    "empty_list = []"
   ]
  },
  {
   "cell_type": "code",
   "execution_count": 39,
   "id": "75e4a232",
   "metadata": {},
   "outputs": [],
   "source": [
    "# add elemt to list\n",
    "empty_list.append(1)"
   ]
  },
  {
   "cell_type": "code",
   "execution_count": 40,
   "id": "80b0dfeb",
   "metadata": {},
   "outputs": [
    {
     "name": "stdout",
     "output_type": "stream",
     "text": [
      "[1]\n"
     ]
    }
   ],
   "source": [
    "print(empty_list)"
   ]
  },
  {
   "cell_type": "code",
   "execution_count": 41,
   "id": "81fcf4c1",
   "metadata": {},
   "outputs": [],
   "source": [
    "# insert used o insert item at given location\n",
    "empty_list.insert(0,0)"
   ]
  },
  {
   "cell_type": "code",
   "execution_count": 42,
   "id": "ced2d4ea",
   "metadata": {},
   "outputs": [
    {
     "name": "stdout",
     "output_type": "stream",
     "text": [
      "[0, 1]\n"
     ]
    }
   ],
   "source": [
    "print(empty_list)"
   ]
  },
  {
   "cell_type": "code",
   "execution_count": 43,
   "id": "df30461c",
   "metadata": {},
   "outputs": [
    {
     "name": "stdout",
     "output_type": "stream",
     "text": [
      "[0, 1, 2, 3]\n"
     ]
    }
   ],
   "source": [
    "# extends used to append iterable lements to list\n",
    "empty_list.extend([2,3])\n",
    "print(empty_list)"
   ]
  },
  {
   "cell_type": "code",
   "execution_count": 44,
   "id": "eb1caf9f",
   "metadata": {},
   "outputs": [
    {
     "name": "stdout",
     "output_type": "stream",
     "text": [
      "[0, 1, 2, 3, 'A', 'B', 'C']\n"
     ]
    }
   ],
   "source": [
    "empty_list.extend(\"ABC\")\n",
    "print(empty_list)"
   ]
  },
  {
   "cell_type": "code",
   "execution_count": 45,
   "id": "35058788",
   "metadata": {},
   "outputs": [
    {
     "name": "stdout",
     "output_type": "stream",
     "text": [
      "[1, 2, 3, 4, 5, 6, 7, 8, 9, 0, 1, 2, 3, 'A', 'B', 'C']\n"
     ]
    }
   ],
   "source": [
    "# list concatination + use to concat two list return new one\n",
    "concat_list = finite_list + empty_list\n",
    "print(concat_list)"
   ]
  },
  {
   "cell_type": "code",
   "execution_count": 46,
   "id": "85c47e9d",
   "metadata": {},
   "outputs": [
    {
     "name": "stdout",
     "output_type": "stream",
     "text": [
      "<class 'list'>\n"
     ]
    }
   ],
   "source": [
    "print(type(concat_list))"
   ]
  },
  {
   "cell_type": "code",
   "execution_count": 54,
   "id": "3299d5dd",
   "metadata": {},
   "outputs": [
    {
     "name": "stdout",
     "output_type": "stream",
     "text": [
      "[1, 2, 3, 4, 5, 6, 7, 8, 9, 0, 1, 2, 3]\n",
      "{0, 1, 2, 3, 4, 5, 6, 7, 8, 9}\n"
     ]
    }
   ],
   "source": [
    "number_list = [ num for num in concat_list if str(num).isdigit()]\n",
    "print(number_list)\n",
    "print(set(number_list))"
   ]
  },
  {
   "cell_type": "code",
   "execution_count": null,
   "id": "1957e81b",
   "metadata": {},
   "outputs": [],
   "source": []
  }
 ],
 "metadata": {
  "kernelspec": {
   "display_name": "Python 3 (ipykernel)",
   "language": "python",
   "name": "python3"
  },
  "language_info": {
   "codemirror_mode": {
    "name": "ipython",
    "version": 3
   },
   "file_extension": ".py",
   "mimetype": "text/x-python",
   "name": "python",
   "nbconvert_exporter": "python",
   "pygments_lexer": "ipython3",
   "version": "3.11.2"
  }
 },
 "nbformat": 4,
 "nbformat_minor": 5
}
